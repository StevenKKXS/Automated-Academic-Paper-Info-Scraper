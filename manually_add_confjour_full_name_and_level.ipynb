{
 "cells": [
  {
   "cell_type": "code",
   "execution_count": 18,
   "metadata": {},
   "outputs": [],
   "source": [
    "import re\n",
    "import json\n",
    "\n",
    "import requests\n",
    "from bs4 import BeautifulSoup\n",
    "\n",
    "conferences = ['icde', 'aaai', 'www', 'kdd', 'iclr', 'recsys', 'ijcai', 'sigir', 'cikm', 'cvpr', 'mm', 'wsdm', 'icse', 'acl', 'kddcd']\n",
    "journals= ['pami', 'tkde', 'prl', 'tcss', 'tmm', 'tsmc', 'ijautcomp', 'tois', 'fcsc', 'tomccap']"
   ]
  },
  {
   "cell_type": "code",
   "execution_count": 21,
   "metadata": {},
   "outputs": [
    {
     "name": "stdout",
     "output_type": "stream",
     "text": [
      "{'level': 'A', 'full_name': 'IEEE International Conference on Data Engineering'}\n",
      "{'level': 'B', 'full_name': 'AAAI Conference on Artificial Intelligence'}\n",
      "{'level': 'B', 'full_name': 'The Web Conference'}\n",
      "{'level': 'A', 'full_name': 'ACM SIGKDD Conference on Knowledge Discovery and Data Mining'}\n",
      "{'level': 'No', 'full_name': 'International Conference on Learning Representations'}\n",
      "{'level': 'B', 'full_name': 'ACM Conference on Recommender Systems'}\n",
      "{'level': 'A', 'full_name': 'International Joint Conference on Artificial Intelligence'}\n",
      "{'level': 'A', 'full_name': 'Annual International ACM SIGIR Conference on Research and Development in Information Retrieval'}\n",
      "{'level': 'B', 'full_name': 'International Conference on Information and Knowledge Management'}\n",
      "{'level': 'A', 'full_name': 'Computer Vision and Pattern Recognition'}\n",
      "{'level': 'A', 'full_name': 'ACM International Conference on Multimedia'}\n",
      "{'level': 'B', 'full_name': 'Web Search and Data Mining'}\n",
      "{'level': 'A', 'full_name': 'International Conference on Software Engineering'}\n",
      "{'level': 'A', 'full_name': 'Annual Meeting of the Association for Computational Linguistics'}\n",
      "{'level': 'No', 'full_name': 'KDD Workshop on Causal Discovery, Prediction and Decision'}\n"
     ]
    }
   ],
   "source": [
    "# conference full name + level\n",
    "conf_base_url = 'https://dblp.uni-trier.de/db/conf/'\n",
    "conf_abbr2ref = {}\n",
    "with open('conferences_level.txt', 'r', encoding='utf-8') as f:\n",
    "    line = f.readline()\n",
    "    while line.strip() != '':\n",
    "        cells = line.split(' ')\n",
    "        conf_abbr2ref.update({cells[0]: {'level': cells[1].strip()}})\n",
    "        line = f.readline()\n",
    "\n",
    "for conf_abbr in conferences:\n",
    "    # full name\n",
    "    conf_url = conf_base_url + conf_abbr + '/'\n",
    "    html = requests.get(conf_url).text\n",
    "    soup = BeautifulSoup(html, 'html.parser')\n",
    "    header = soup.find('header', attrs={'id': 'headline'})\n",
    "\n",
    "    full_name = re.split(r'[():]',header.h1.text)[0].strip()\n",
    "\n",
    "    conf_abbr2ref[conf_abbr].update({'full_name': full_name})\n",
    "\n",
    "with open('conf_abbr2ref.json', 'w') as f:\n",
    "    json.dump(conf_abbr2ref, f)\n",
    "\n",
    "for k in conf_abbr2ref:\n",
    "    print(conf_abbr2ref[k])"
   ]
  },
  {
   "cell_type": "code",
   "execution_count": 23,
   "metadata": {},
   "outputs": [
    {
     "name": "stdout",
     "output_type": "stream",
     "text": [
      "{'level': '1', 'full_name': 'IEEE Transactions on Pattern Analysis and Machine Intelligence'}\n",
      "{'level': '2', 'full_name': 'IEEE Transactions on Knowledge and Data Engineering'}\n",
      "{'level': '3', 'full_name': 'Pattern Recognition Letters'}\n",
      "{'level': '2', 'full_name': 'IEEE Transactions on Computational Social Systems'}\n",
      "{'level': '1', 'full_name': 'IEEE Transactions on Multimedia'}\n",
      "{'level': '1', 'full_name': 'IEEE Transactions on Systems, Man, and Cybernetics'}\n",
      "{'level': '4', 'full_name': 'International Journal of Automation and Computing'}\n",
      "{'level': '2', 'full_name': 'ACM Transactions on Information Systems'}\n",
      "{'level': '3', 'full_name': 'Frontiers of Computer Science'}\n",
      "{'level': '3', 'full_name': 'ACM Transactions on Multimedia Computing, Communications, and Applications'}\n"
     ]
    }
   ],
   "source": [
    "# journal full name + level\n",
    "jour_base_url = 'https://dblp.uni-trier.de/db/journals/'\n",
    "jour_abbr2ref = {}\n",
    "with open('journals_level.txt', 'r', encoding='utf-8') as f:\n",
    "    line = f.readline()\n",
    "    while line.strip() != '':\n",
    "        cells = line.split(' ')\n",
    "        jour_abbr2ref.update({cells[0]: {'level': cells[1].strip()}})\n",
    "        line = f.readline()\n",
    "\n",
    "for jour_abbr in journals:\n",
    "    jour_url = jour_base_url + jour_abbr + '/'\n",
    "    html = requests.get(jour_url).text\n",
    "    soup = BeautifulSoup(html, 'html.parser')\n",
    "    header = soup.find('header', attrs={'id': 'headline'})\n",
    "    \n",
    "    full_name = re.split(r'[():]',header.h1.text)[0].strip()\n",
    "    if jour_abbr == 'ijautcomp':\n",
    "        # sub tilte of the dblp headline\n",
    "        full_name = 'International Journal of Automation and Computing'\n",
    "    jour_abbr2ref[jour_abbr].update({'full_name': full_name})\n",
    "\n",
    "with open('jour_abbr2ref.json', 'w') as f:\n",
    "    json.dump(jour_abbr2ref, f)\n",
    "\n",
    "for k in jour_abbr2ref:\n",
    "    print(jour_abbr2ref[k])"
   ]
  }
 ],
 "metadata": {
  "kernelspec": {
   "display_name": "spiderman",
   "language": "python",
   "name": "python3"
  },
  "language_info": {
   "codemirror_mode": {
    "name": "ipython",
    "version": 3
   },
   "file_extension": ".py",
   "mimetype": "text/x-python",
   "name": "python",
   "nbconvert_exporter": "python",
   "pygments_lexer": "ipython3",
   "version": "3.11.5"
  }
 },
 "nbformat": 4,
 "nbformat_minor": 2
}
